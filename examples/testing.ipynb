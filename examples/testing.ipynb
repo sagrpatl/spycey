{
 "cells": [
  {
   "cell_type": "code",
   "execution_count": 1,
   "metadata": {},
   "outputs": [],
   "source": [
    "%load_ext autoreload\n",
    "%autoreload 2\n",
    "from anytree import RenderTree\n",
    "import sys\n",
    "sys.path.append(\"../spycey\")"
   ]
  },
  {
   "cell_type": "code",
   "execution_count": 21,
   "metadata": {},
   "outputs": [],
   "source": [
    "# for node in output.branches.values():\n",
    "#     print('Branch {}: {:5.3f} A'.format(str(node), float(node)))"
   ]
  },
  {
   "cell_type": "code",
   "execution_count": 22,
   "metadata": {},
   "outputs": [],
   "source": [
    "# for node in output.nodes.values():\n",
    "#     print('Node {}: {:5.3f} V'.format(str(node), float(node)))"
   ]
  },
  {
   "cell_type": "code",
   "execution_count": 23,
   "metadata": {},
   "outputs": [],
   "source": [
    "# for pre, fill, node in RenderTree(top):\n",
    "#     print(\"%s%s   \" % (pre, node.name), str(node.VO) ,str(node.IO) , str(node.EF))"
   ]
  },
  {
   "cell_type": "code",
   "execution_count": 24,
   "metadata": {},
   "outputs": [],
   "source": [
    "# for node in output.nodes.values():\n",
    "    # print('Node {}: {:5.3f} V'.format(str(node), float(node)))"
   ]
  },
  {
   "cell_type": "code",
   "execution_count": 25,
   "metadata": {},
   "outputs": [],
   "source": [
    "# for branch in output.branches.values():\n",
    "#     print('branch {}: {:5.3f} A'.format(str(branch), float(branch)))"
   ]
  },
  {
   "cell_type": "code",
   "execution_count": 26,
   "metadata": {},
   "outputs": [],
   "source": [
    "# for pre, fill, node in RenderTree(top):\n",
    "#     print(\"%s%s   \" % (pre, node.name), str(node.VO) ,str(node.IO) , str(node.EF))"
   ]
  },
  {
   "cell_type": "code",
   "execution_count": 27,
   "metadata": {},
   "outputs": [],
   "source": [
    "# for pre, fill, node in RenderTree(n7):\n",
    "#     print(\"%s%s   \" % (pre, node.name), str(node.VO) ,str(node.IO) , str(node.EF))"
   ]
  },
  {
   "cell_type": "code",
   "execution_count": 2,
   "metadata": {},
   "outputs": [],
   "source": [
    "from spycey import *\n",
    "import time\n",
    "import models\n",
    "\n",
    "def tree(n):\n",
    "    top = PNode.IN_DC(\"VIN\", 52)\n",
    "    n1  = PNode.LDO(\"P1V0\", 1).setParent(top)\n",
    "    n5  = PNode.LDO(\"P0V5\", 0.5).setParent(n1)\n",
    "    n7  = PNode.SMPS(\"P5V0-BUCK\", 5, 0.9).setParent(top).setMultiplier(n)\n",
    "    n16 = PNode.RES(\"333\", 1).setParent(n7)\n",
    "\n",
    "    n3 =  PNode.RES(\"LOAD2\", 0.5).setParent(n1)\n",
    "    n4 =  PNode.RES(\"LOAD3\", 0.25).setParent(n1)\n",
    "\n",
    "    n6 =  PNode.RES(\"LOAD4\", 0.25).setParent(n5)\n",
    "    n9 =  PNode.CP_LOAD(\"CP-LOAD\", 100).setParent(n5)\n",
    "    n10 = PNode.UNREG(\"UNREG\", 4, 0.9).setParent(top)\n",
    "    n15 = PNode.CP_LOAD(\"DD\", 100).setParent(n10)\n",
    "    n15 = PNode.RES(\"DD\", 100).setParent(n10)\n",
    "\n",
    "    n10 = PNode(\"PT\", model=models.CCVS()).setParent(top).setMultiplier(3)\n",
    "    n12 = PNode.UNREG(\"UNREG\", 5).setParent(n10)\n",
    "\n",
    "    n13 = PNode.CP_LOAD(\"loadd\", 2000).setParent(n12)\n",
    "    n11 = PNode.RES(\"loadd\", 0.5).setParent(n10) # 48V\n",
    "    \n",
    "    # n7  = PNode.SMPS(\"P5V0-BUCK\", 5, 0.9).setParent(top)\n",
    "    # n11 = PNode.RES(\"loadd\", 1).setParent(n7) # 48V\n",
    "    return top\n",
    "\n",
    "\n"
   ]
  },
  {
   "cell_type": "code",
   "execution_count": 3,
   "metadata": {},
   "outputs": [],
   "source": [
    "from anytree.exporter import DotExporter\n",
    "from engineering_notation import EngNumber\n",
    "\n",
    "top = tree(1)\n",
    "\n",
    "output = Solve(top)\n",
    "PowerDotExporter(top).to_picture(\"plop.png\")\n",
    "\n"
   ]
  },
  {
   "cell_type": "code",
   "execution_count": 29,
   "metadata": {},
   "outputs": [],
   "source": [
    "# PowerDotExporter(top).to_picture(\"plop.png\")"
   ]
  },
  {
   "cell_type": "code",
   "execution_count": 25,
   "metadata": {},
   "outputs": [
    {
     "name": "stdout",
     "output_type": "stream",
     "text": [
      "branch b.xn80807a4f55da4b9cab65052bd4f593b5.bvo: 0.000 A\n",
      "branch v.xn80807a4f55da4b9cab65052bd4f593b5.v1: -338.023 A\n",
      "branch b.xn80807a4f55da4b9cab65052bd4f593b5.bio: 0.000 A\n",
      "branch b.xn34d8bae52b21452a86d3044f045deb73.bvo: 0.000 A\n",
      "branch v.xn34d8bae52b21452a86d3044f045deb73.v1: -208.000 A\n",
      "branch b.xn34d8bae52b21452a86d3044f045deb73.bio: 0.000 A\n",
      "branch b.xn34d8bae52b21452a86d3044f045deb73.bvi: 0.000 A\n",
      "branch v.xn34d8bae52b21452a86d3044f045deb73.v_b1: -208.000 A\n",
      "branch b.xn34d8bae52b21452a86d3044f045deb73.bii: 0.000 A\n",
      "branch b.xn34d8bae52b21452a86d3044f045deb73.bef: 0.000 A\n",
      "branch b.xn87a4940063db4ff0a1b2d69e0cc69190.bvo: 0.000 A\n",
      "branch v.xn87a4940063db4ff0a1b2d69e0cc69190.v1: -202.000 A\n",
      "branch b.xn87a4940063db4ff0a1b2d69e0cc69190.bio: 0.000 A\n",
      "branch b.xn87a4940063db4ff0a1b2d69e0cc69190.bvi: 0.000 A\n",
      "branch v.xn87a4940063db4ff0a1b2d69e0cc69190.v_b1: -202.000 A\n",
      "branch b.xn87a4940063db4ff0a1b2d69e0cc69190.bii: 0.000 A\n",
      "branch b.xn87a4940063db4ff0a1b2d69e0cc69190.bef: 0.000 A\n",
      "branch b.xn1c7c316850a04e208405cc511bea8832.bvi: 0.000 A\n",
      "branch v.xn1c7c316850a04e208405cc511bea8832.v_r1: 2.000 A\n",
      "branch b.xn1c7c316850a04e208405cc511bea8832.bii: 0.000 A\n",
      "branch b.xnf3b8ba3178c94b57898cfd895b344b48.bvi: 0.000 A\n",
      "branch v.xnf3b8ba3178c94b57898cfd895b344b48.v_b1: 200.000 A\n",
      "branch b.xnf3b8ba3178c94b57898cfd895b344b48.bii: 0.000 A\n",
      "branch b.xn08d0f249d21f459281c7fe2e8d8a9b87.bvi: 0.000 A\n",
      "branch v.xn08d0f249d21f459281c7fe2e8d8a9b87.v_r1: 2.000 A\n",
      "branch b.xn08d0f249d21f459281c7fe2e8d8a9b87.bii: 0.000 A\n",
      "branch b.xncb6037389bbb4e829e1a92847fb4523e.bvi: 0.000 A\n",
      "branch v.xncb6037389bbb4e829e1a92847fb4523e.v_r1: 4.000 A\n",
      "branch b.xncb6037389bbb4e829e1a92847fb4523e.bii: 0.000 A\n",
      "branch b.xn33853ff0c2db462b8d17f362d5a4dfbd.bvo: 0.000 A\n",
      "branch v.xn33853ff0c2db462b8d17f362d5a4dfbd.v1: -5.000 A\n",
      "branch b.xn33853ff0c2db462b8d17f362d5a4dfbd.bio: 0.000 A\n",
      "branch b.xn33853ff0c2db462b8d17f362d5a4dfbd.bvi: 0.000 A\n",
      "branch v.xn33853ff0c2db462b8d17f362d5a4dfbd.v2: 0.534 A\n",
      "branch b.xn33853ff0c2db462b8d17f362d5a4dfbd.bii: 0.000 A\n",
      "branch b.xn33853ff0c2db462b8d17f362d5a4dfbd.bef: 0.000 A\n",
      "branch b.xncf98ccc67a34400891dd2b2d1478c5fe.bvi: 0.000 A\n",
      "branch v.xncf98ccc67a34400891dd2b2d1478c5fe.v_r1: 5.000 A\n",
      "branch b.xncf98ccc67a34400891dd2b2d1478c5fe.bii: 0.000 A\n",
      "branch b.xn59f1b9485c4741fc90cae2df3ac3e35e.b3: -7.822 A\n",
      "branch b.xn59f1b9485c4741fc90cae2df3ac3e35e.bvo: 0.000 A\n",
      "branch v.xn59f1b9485c4741fc90cae2df3ac3e35e.v_b3: -7.822 A\n",
      "branch b.xn59f1b9485c4741fc90cae2df3ac3e35e.bio: 0.000 A\n",
      "branch b.xn59f1b9485c4741fc90cae2df3ac3e35e.bvi: 0.000 A\n",
      "branch v.xn59f1b9485c4741fc90cae2df3ac3e35e.v2: 2.173 A\n",
      "branch b.xn59f1b9485c4741fc90cae2df3ac3e35e.bii: 0.000 A\n",
      "branch b.xn59f1b9485c4741fc90cae2df3ac3e35e.bef: 0.000 A\n",
      "branch b.xndbe0eb5e6fae4e359d475edc32adf6f3.bvi: 0.000 A\n",
      "branch v.xndbe0eb5e6fae4e359d475edc32adf6f3.v_b1: 7.692 A\n",
      "branch b.xndbe0eb5e6fae4e359d475edc32adf6f3.bii: 0.000 A\n",
      "branch b.xn95188b8cd9d6437ab7be2194d43052ef.bvi: 0.000 A\n",
      "branch v.xn95188b8cd9d6437ab7be2194d43052ef.v_r1: 0.130 A\n",
      "branch b.xn95188b8cd9d6437ab7be2194d43052ef.bii: 0.000 A\n",
      "branch v.xn4df77a4764b641cab5057073f52580ed.v_b3: -137.740 A\n",
      "branch b.xn4df77a4764b641cab5057073f52580ed.b3: -137.740 A\n",
      "branch b.xn4df77a4764b641cab5057073f52580ed.bvo: 0.000 A\n",
      "branch v.xn4df77a4764b641cab5057073f52580ed.v3: 137.740 A\n",
      "branch b.xn4df77a4764b641cab5057073f52580ed.bio: 0.000 A\n",
      "branch b.xn4df77a4764b641cab5057073f52580ed.bvi: 0.000 A\n",
      "branch v.xn4df77a4764b641cab5057073f52580ed.v2: -127.316 A\n",
      "branch b.xn4df77a4764b641cab5057073f52580ed.bii: 0.000 A\n",
      "branch b.xn4df77a4764b641cab5057073f52580ed.bef: 0.000 A\n",
      "branch b.xn64ed0bb718294ac185f53c8c353eecd1.b3: -208.053 A\n",
      "branch b.xn64ed0bb718294ac185f53c8c353eecd1.bvo: 0.000 A\n",
      "branch v.xn64ed0bb718294ac185f53c8c353eecd1.v_b3: -208.053 A\n",
      "branch b.xn64ed0bb718294ac185f53c8c353eecd1.bio: 0.000 A\n",
      "branch b.xn64ed0bb718294ac185f53c8c353eecd1.bvi: 0.000 A\n",
      "branch v.xn64ed0bb718294ac185f53c8c353eecd1.v2: 41.611 A\n",
      "branch b.xn64ed0bb718294ac185f53c8c353eecd1.bii: 0.000 A\n",
      "branch b.xn64ed0bb718294ac185f53c8c353eecd1.bef: 0.000 A\n",
      "branch b.xn4a8147bf6e5c4883b2897eb9e331b080.bvi: 0.000 A\n",
      "branch v.xn4a8147bf6e5c4883b2897eb9e331b080.v_b1: 208.053 A\n",
      "branch b.xn4a8147bf6e5c4883b2897eb9e331b080.bii: 0.000 A\n",
      "branch b.xn7508a2cb80a64a7f935f5c3bde0b9f13.bvi: 0.000 A\n",
      "branch v.xn7508a2cb80a64a7f935f5c3bde0b9f13.v_r1: 96.129 A\n",
      "branch b.xn7508a2cb80a64a7f935f5c3bde0b9f13.bii: 0.000 A\n"
     ]
    }
   ],
   "source": [
    "for branch in output.branches.values():\n",
    "    print('branch {}: {:5.3f} A'.format(str(branch), float(branch)))"
   ]
  },
  {
   "cell_type": "code",
   "execution_count": 26,
   "metadata": {},
   "outputs": [
    {
     "name": "stdout",
     "output_type": "stream",
     "text": [
      "Node ii-n7508a2cb80a64a7f935f5c3bde0b9f13: 96.129 V\n",
      "Node vi-n7508a2cb80a64a7f935f5c3bde0b9f13: 48.065 V\n",
      "Node xn7508a2cb80a64a7f935f5c3bde0b9f13.n1_vmeas_18: 48.065 V\n",
      "Node ii-n4a8147bf6e5c4883b2897eb9e331b080: 208.053 V\n",
      "Node vi-n4a8147bf6e5c4883b2897eb9e331b080: 9.613 V\n",
      "Node xn4a8147bf6e5c4883b2897eb9e331b080.n1_vmeas_17: 9.613 V\n",
      "Node ef-n64ed0bb718294ac185f53c8c353eecd1: 1.000 V\n",
      "Node ii-n64ed0bb718294ac185f53c8c353eecd1: 41.611 V\n",
      "Node vi-n64ed0bb718294ac185f53c8c353eecd1: 48.065 V\n",
      "Node io-n64ed0bb718294ac185f53c8c353eecd1: 208.053 V\n",
      "Node vo-n64ed0bb718294ac185f53c8c353eecd1: 9.613 V\n",
      "Node xn64ed0bb718294ac185f53c8c353eecd1.n2_vmeas_14: 9.613 V\n",
      "Node n64ed0bb718294ac185f53c8c353eecd1: 9.613 V\n",
      "Node xn64ed0bb718294ac185f53c8c353eecd1.n11: 48.065 V\n",
      "Node ef-n4df77a4764b641cab5057073f52580ed: 1.000 V\n",
      "Node ii-n4df77a4764b641cab5057073f52580ed: 127.316 V\n",
      "Node vi-n4df77a4764b641cab5057073f52580ed: 52.000 V\n",
      "Node io-n4df77a4764b641cab5057073f52580ed: 137.740 V\n",
      "Node vo-n4df77a4764b641cab5057073f52580ed: 48.065 V\n",
      "Node xn4df77a4764b641cab5057073f52580ed.n22_vmeas_12: 48.065 V\n",
      "Node n4df77a4764b641cab5057073f52580ed: 48.065 V\n",
      "Node xn4df77a4764b641cab5057073f52580ed.n22: 48.065 V\n",
      "Node xn4df77a4764b641cab5057073f52580ed.n11: 52.000 V\n",
      "Node ii-n95188b8cd9d6437ab7be2194d43052ef: 0.130 V\n",
      "Node vi-n95188b8cd9d6437ab7be2194d43052ef: 13.000 V\n",
      "Node xn95188b8cd9d6437ab7be2194d43052ef.n1_vmeas_11: 13.000 V\n",
      "Node ii-ndbe0eb5e6fae4e359d475edc32adf6f3: 7.692 V\n",
      "Node vi-ndbe0eb5e6fae4e359d475edc32adf6f3: 13.000 V\n",
      "Node xndbe0eb5e6fae4e359d475edc32adf6f3.n1_vmeas_10: 13.000 V\n",
      "Node ef-n59f1b9485c4741fc90cae2df3ac3e35e: 0.900 V\n",
      "Node ii-n59f1b9485c4741fc90cae2df3ac3e35e: 2.173 V\n",
      "Node vi-n59f1b9485c4741fc90cae2df3ac3e35e: 52.000 V\n",
      "Node io-n59f1b9485c4741fc90cae2df3ac3e35e: 7.822 V\n",
      "Node vo-n59f1b9485c4741fc90cae2df3ac3e35e: 13.000 V\n",
      "Node xn59f1b9485c4741fc90cae2df3ac3e35e.n2_vmeas_7: 13.000 V\n",
      "Node n59f1b9485c4741fc90cae2df3ac3e35e: 13.000 V\n",
      "Node xn59f1b9485c4741fc90cae2df3ac3e35e.n11: 52.000 V\n",
      "Node ii-ncf98ccc67a34400891dd2b2d1478c5fe: 5.000 V\n",
      "Node vi-ncf98ccc67a34400891dd2b2d1478c5fe: 5.000 V\n",
      "Node xncf98ccc67a34400891dd2b2d1478c5fe.n1_vmeas_6: 5.000 V\n",
      "Node ef-n33853ff0c2db462b8d17f362d5a4dfbd: 0.900 V\n",
      "Node ii-n33853ff0c2db462b8d17f362d5a4dfbd: 0.534 V\n",
      "Node vi-n33853ff0c2db462b8d17f362d5a4dfbd: 52.000 V\n",
      "Node io-n33853ff0c2db462b8d17f362d5a4dfbd: 5.000 V\n",
      "Node vo-n33853ff0c2db462b8d17f362d5a4dfbd: 5.000 V\n",
      "Node n33853ff0c2db462b8d17f362d5a4dfbd: 5.000 V\n",
      "Node xn33853ff0c2db462b8d17f362d5a4dfbd.n11: 52.000 V\n",
      "Node ii-ncb6037389bbb4e829e1a92847fb4523e: 4.000 V\n",
      "Node vi-ncb6037389bbb4e829e1a92847fb4523e: 1.000 V\n",
      "Node xncb6037389bbb4e829e1a92847fb4523e.n1_vmeas_5: 1.000 V\n",
      "Node ii-n08d0f249d21f459281c7fe2e8d8a9b87: 2.000 V\n",
      "Node vi-n08d0f249d21f459281c7fe2e8d8a9b87: 1.000 V\n",
      "Node xn08d0f249d21f459281c7fe2e8d8a9b87.n1_vmeas_4: 1.000 V\n",
      "Node ii-nf3b8ba3178c94b57898cfd895b344b48: 200.000 V\n",
      "Node vi-nf3b8ba3178c94b57898cfd895b344b48: 0.500 V\n",
      "Node xnf3b8ba3178c94b57898cfd895b344b48.n1_vmeas_3: 0.500 V\n",
      "Node ii-n1c7c316850a04e208405cc511bea8832: 2.000 V\n",
      "Node vi-n1c7c316850a04e208405cc511bea8832: 0.500 V\n",
      "Node xn1c7c316850a04e208405cc511bea8832.n1_vmeas_2: 0.500 V\n",
      "Node ef-n87a4940063db4ff0a1b2d69e0cc69190: 0.500 V\n",
      "Node ii-n87a4940063db4ff0a1b2d69e0cc69190: 202.000 V\n",
      "Node vi-n87a4940063db4ff0a1b2d69e0cc69190: 1.000 V\n",
      "Node io-n87a4940063db4ff0a1b2d69e0cc69190: 202.000 V\n",
      "Node vo-n87a4940063db4ff0a1b2d69e0cc69190: 0.500 V\n",
      "Node n87a4940063db4ff0a1b2d69e0cc69190: 0.500 V\n",
      "Node xn87a4940063db4ff0a1b2d69e0cc69190.0_vmeas_1: 0.000 V\n",
      "Node ef-n34d8bae52b21452a86d3044f045deb73: 0.019 V\n",
      "Node ii-n34d8bae52b21452a86d3044f045deb73: 208.000 V\n",
      "Node vi-n34d8bae52b21452a86d3044f045deb73: 52.000 V\n",
      "Node io-n34d8bae52b21452a86d3044f045deb73: 208.000 V\n",
      "Node vo-n34d8bae52b21452a86d3044f045deb73: 1.000 V\n",
      "Node n34d8bae52b21452a86d3044f045deb73: 1.000 V\n",
      "Node xn34d8bae52b21452a86d3044f045deb73.0_vmeas_0: 0.000 V\n",
      "Node io-n80807a4f55da4b9cab65052bd4f593b5: 338.023 V\n",
      "Node vo-n80807a4f55da4b9cab65052bd4f593b5: 52.000 V\n",
      "Node n80807a4f55da4b9cab65052bd4f593b5: 52.000 V\n"
     ]
    }
   ],
   "source": [
    "for node in output.nodes.values():\n",
    "    print('Node {}: {:5.3f} V'.format(str(node), float(node)))"
   ]
  },
  {
   "cell_type": "code",
   "execution_count": null,
   "metadata": {},
   "outputs": [],
   "source": []
  }
 ],
 "metadata": {
  "kernelspec": {
   "display_name": "venv",
   "language": "python",
   "name": "python3"
  },
  "language_info": {
   "codemirror_mode": {
    "name": "ipython",
    "version": 3
   },
   "file_extension": ".py",
   "mimetype": "text/x-python",
   "name": "python",
   "nbconvert_exporter": "python",
   "pygments_lexer": "ipython3",
   "version": "3.10.6"
  },
  "orig_nbformat": 4,
  "vscode": {
   "interpreter": {
    "hash": "30dceb03cfbdf0d01135481637caac2d5f67a1fc65c81fd8655f82251c98fb02"
   }
  }
 },
 "nbformat": 4,
 "nbformat_minor": 2
}
