{
 "cells": [
  {
   "cell_type": "code",
   "execution_count": 5,
   "metadata": {},
   "outputs": [],
   "source": [
    "%load_ext autoreload\n",
    "%autoreload 2\n",
    "from anytree import RenderTree"
   ]
  },
  {
   "cell_type": "code",
   "execution_count": 114,
   "metadata": {},
   "outputs": [],
   "source": [
    "# for node in output.branches.values():\n",
    "#     print('Branch {}: {:5.3f} A'.format(str(node), float(node)))"
   ]
  },
  {
   "cell_type": "code",
   "execution_count": 115,
   "metadata": {},
   "outputs": [],
   "source": [
    "# for node in output.nodes.values():\n",
    "#     print('Node {}: {:5.3f} V'.format(str(node), float(node)))"
   ]
  },
  {
   "cell_type": "code",
   "execution_count": 116,
   "metadata": {},
   "outputs": [],
   "source": [
    "# for pre, fill, node in RenderTree(top):\n",
    "#     print(\"%s%s   \" % (pre, node.name), str(node.VO) ,str(node.IO) , str(node.EF))"
   ]
  },
  {
   "cell_type": "code",
   "execution_count": 117,
   "metadata": {},
   "outputs": [],
   "source": [
    "# for node in output.nodes.values():\n",
    "    # print('Node {}: {:5.3f} V'.format(str(node), float(node)))"
   ]
  },
  {
   "cell_type": "code",
   "execution_count": 118,
   "metadata": {},
   "outputs": [],
   "source": [
    "# for branch in output.branches.values():\n",
    "    # print('branch {}: {:5.3f} A'.format(str(branch), float(branch)))"
   ]
  },
  {
   "cell_type": "code",
   "execution_count": 119,
   "metadata": {},
   "outputs": [],
   "source": [
    "# for pre, fill, node in RenderTree(top):\n",
    "#     print(\"%s%s   \" % (pre, node.name), str(node.VO) ,str(node.IO) , str(node.EF))"
   ]
  },
  {
   "cell_type": "code",
   "execution_count": 120,
   "metadata": {},
   "outputs": [],
   "source": [
    "# for pre, fill, node in RenderTree(n7):\n",
    "#     print(\"%s%s   \" % (pre, node.name), str(node.VO) ,str(node.IO) , str(node.EF))"
   ]
  },
  {
   "cell_type": "code",
   "execution_count": 216,
   "metadata": {},
   "outputs": [],
   "source": [
    "from spycey.spycey import *\n",
    "import time\n",
    "import spycey.models\n",
    "\n",
    "def tree(n):\n",
    "    top = PNode.IN_DC(\"VIN\", 52)\n",
    "    n1  = PNode.LDO(\"P1V0\", 1).setParent(top)\n",
    "    n5  = PNode.LDO(\"P0V5\", 0.5).setParent(n1)\n",
    "    n7  = PNode.SMPS(\"P5V0-BUCK\", 5, 0.9).setParent(top).setMultiplier(n)\n",
    "\n",
    "    n3 = PNode.RES(\"LOAD2\", 0.5).setParent(n1)\n",
    "    n4 = PNode.RES(\"LOAD3\", 0.25).setParent(n1)\n",
    "\n",
    "    n6 = PNode.RES(\"LOAD4\", 0.25).setParent(n5)\n",
    "    n9 = PNode.CP_LOAD(\"CP-LOAD\", 100).setParent(n5)\n",
    "    # n10 = PNode.UNREG(\"UNREG\", 4, 0.9).setParent(top)\n",
    "    n10 = PNode(\"UNREG\", model=spycey.models.PT()).setParent(top)\n",
    "    n11 = PNode.CP_LOAD(\"loadd\", 100).setParent(n10)\n",
    "    return top\n",
    "\n"
   ]
  },
  {
   "cell_type": "code",
   "execution_count": 223,
   "metadata": {},
   "outputs": [],
   "source": [
    "from anytree.exporter import DotExporter\n",
    "from engineering_notation import EngNumber\n",
    "\n",
    "top = tree(20)\n",
    "\n",
    "Solve(top)\n"
   ]
  },
  {
   "cell_type": "code",
   "execution_count": 224,
   "metadata": {},
   "outputs": [],
   "source": [
    "PowerDotExporter(top).to_picture(\"plop.png\")"
   ]
  },
  {
   "cell_type": "code",
   "execution_count": null,
   "metadata": {},
   "outputs": [],
   "source": []
  }
 ],
 "metadata": {
  "kernelspec": {
   "display_name": "venv",
   "language": "python",
   "name": "python3"
  },
  "language_info": {
   "codemirror_mode": {
    "name": "ipython",
    "version": 3
   },
   "file_extension": ".py",
   "mimetype": "text/x-python",
   "name": "python",
   "nbconvert_exporter": "python",
   "pygments_lexer": "ipython3",
   "version": "3.8.10"
  },
  "orig_nbformat": 4,
  "vscode": {
   "interpreter": {
    "hash": "b9e0ea871a737782f9e19725d8a7d6eb0864730250975268501d3bdb8f18e70f"
   }
  }
 },
 "nbformat": 4,
 "nbformat_minor": 2
}
