{
 "cells": [
  {
   "cell_type": "code",
   "execution_count": 5,
   "metadata": {},
   "outputs": [],
   "source": [
    "%load_ext autoreload\n",
    "%autoreload 2\n",
    "from anytree import RenderTree"
   ]
  },
  {
   "cell_type": "code",
   "execution_count": 114,
   "metadata": {},
   "outputs": [],
   "source": [
    "# for node in output.branches.values():\n",
    "#     print('Branch {}: {:5.3f} A'.format(str(node), float(node)))"
   ]
  },
  {
   "cell_type": "code",
   "execution_count": 115,
   "metadata": {},
   "outputs": [],
   "source": [
    "# for node in output.nodes.values():\n",
    "#     print('Node {}: {:5.3f} V'.format(str(node), float(node)))"
   ]
  },
  {
   "cell_type": "code",
   "execution_count": 116,
   "metadata": {},
   "outputs": [],
   "source": [
    "# for pre, fill, node in RenderTree(top):\n",
    "#     print(\"%s%s   \" % (pre, node.name), str(node.VO) ,str(node.IO) , str(node.EF))"
   ]
  },
  {
   "cell_type": "code",
   "execution_count": 117,
   "metadata": {},
   "outputs": [],
   "source": [
    "# for node in output.nodes.values():\n",
    "    # print('Node {}: {:5.3f} V'.format(str(node), float(node)))"
   ]
  },
  {
   "cell_type": "code",
   "execution_count": 118,
   "metadata": {},
   "outputs": [],
   "source": [
    "# for branch in output.branches.values():\n",
    "    # print('branch {}: {:5.3f} A'.format(str(branch), float(branch)))"
   ]
  },
  {
   "cell_type": "code",
   "execution_count": 119,
   "metadata": {},
   "outputs": [],
   "source": [
    "# for pre, fill, node in RenderTree(top):\n",
    "#     print(\"%s%s   \" % (pre, node.name), str(node.VO) ,str(node.IO) , str(node.EF))"
   ]
  },
  {
   "cell_type": "code",
   "execution_count": 120,
   "metadata": {},
   "outputs": [],
   "source": [
    "# for pre, fill, node in RenderTree(n7):\n",
    "#     print(\"%s%s   \" % (pre, node.name), str(node.VO) ,str(node.IO) , str(node.EF))"
   ]
  },
  {
   "cell_type": "code",
   "execution_count": 26,
   "metadata": {},
   "outputs": [],
   "source": [
    "from spycey.spycey import *\n",
    "import time\n",
    "# import spycey.models\n",
    "\n",
    "def tree(n):\n",
    "    top = PNode(\"VIN\", model=spycey.models.INPUT(10))\n",
    "    n1 = PNode.LDO(\"P1V0\", 1, parent = top)\n",
    "    n5 = PNode.LDO(\"P0V5\", 0.5, parent = n1)\n",
    "    n7 = PNode.SMPS(\"P5V0-BUCK\", 5, 0.9, parent=top, multiplier=n)\n",
    "    n8 = PNode.RES(\"LOAD1\", 1, parent = n7,  multiplier=n)\n",
    "\n",
    "    # n2 = PNODE(\"n2\", parent = top)\n",
    "    n3 = PNode.RES(\"LOAD2\", 0.5,  parent = n1)\n",
    "    n4 = PNode.RES(\"LOAD3\", 0.25, parent = n1)\n",
    "\n",
    "    n6 = PNode.RES(\"LOAD4\", 0.25, parent = n5)\n",
    "    n9 = PNode.CP_LOAD(\"CP-LOAD\", 100, parent = n5)\n",
    "    return top\n",
    "\n"
   ]
  },
  {
   "cell_type": "code",
   "execution_count": 27,
   "metadata": {},
   "outputs": [],
   "source": [
    "# for i in range(1, 20):\n",
    "#     top = tree(i)\n",
    "\n",
    "#     st = time.time()\n",
    "#     Solve(top)\n",
    "#     et = time.time()\n",
    "#     elapsed_time = et - st\n",
    "#     print(i, 'Execution time:', elapsed_time, 'seconds', top.IO)"
   ]
  },
  {
   "cell_type": "code",
   "execution_count": 28,
   "metadata": {},
   "outputs": [],
   "source": [
    "from anytree.exporter import DotExporter\n",
    "from engineering_notation import EngNumber\n",
    "\n",
    "top = tree(20)\n",
    "\n",
    "Solve(top)\n"
   ]
  },
  {
   "cell_type": "code",
   "execution_count": 29,
   "metadata": {},
   "outputs": [],
   "source": [
    "PowerDotExporter(top).to_picture(\"plop.png\")"
   ]
  },
  {
   "cell_type": "code",
   "execution_count": null,
   "metadata": {},
   "outputs": [],
   "source": []
  },
  {
   "cell_type": "code",
   "execution_count": null,
   "metadata": {},
   "outputs": [],
   "source": []
  }
 ],
 "metadata": {
  "kernelspec": {
   "display_name": "venv",
   "language": "python",
   "name": "python3"
  },
  "language_info": {
   "codemirror_mode": {
    "name": "ipython",
    "version": 3
   },
   "file_extension": ".py",
   "mimetype": "text/x-python",
   "name": "python",
   "nbconvert_exporter": "python",
   "pygments_lexer": "ipython3",
   "version": "3.8.10"
  },
  "orig_nbformat": 4,
  "vscode": {
   "interpreter": {
    "hash": "b9e0ea871a737782f9e19725d8a7d6eb0864730250975268501d3bdb8f18e70f"
   }
  }
 },
 "nbformat": 4,
 "nbformat_minor": 2
}
