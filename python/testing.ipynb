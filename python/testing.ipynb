{
 "cells": [
  {
   "cell_type": "code",
   "execution_count": 123,
   "metadata": {},
   "outputs": [
    {
     "name": "stdout",
     "output_type": "stream",
     "text": [
      "The autoreload extension is already loaded. To reload it, use:\n",
      "  %reload_ext autoreload\n"
     ]
    }
   ],
   "source": [
    "%load_ext autoreload\n",
    "%autoreload 2\n",
    "from spycey.spycey import *\n",
    "\n",
    "top = PNODE(\"Hello\", subcircuit=INPUT(10))\n",
    "n1 = PNODE(\"n1\", parent = top, subcircuit=LDO(1))\n",
    "n5 = PNODE(\"n5\", parent = n1, subcircuit=LDO(0.5))\n",
    "\n",
    "# n2 = PNODE(\"n2\", parent = top)\n",
    "n3 = PNODE(\"n3\", parent = n1, subcircuit=Res(0.5))\n",
    "n4 = PNODE(\"n4\", parent = n1, subcircuit=Res(0.25))\n",
    "\n",
    "n6 = PNODE(\"n6\", parent = n5, subcircuit=Res(0.25))\n",
    "\n",
    "mycir = top.circuit()\n",
    "# print(mycir)"
   ]
  },
  {
   "cell_type": "code",
   "execution_count": 124,
   "metadata": {},
   "outputs": [],
   "source": [
    "simulator = mycir.simulator()\n",
    "output = simulator.operating_point()\n",
    "\n"
   ]
  },
  {
   "cell_type": "code",
   "execution_count": 125,
   "metadata": {},
   "outputs": [
    {
     "name": "stdout",
     "output_type": "stream",
     "text": [
      "Branch b.xn113fd7444c5e4f238c8212d4610006bd.bvo: 0.000 A\n",
      "Branch v.xn113fd7444c5e4f238c8212d4610006bd.v1: -8.000 A\n",
      "Branch b.xn113fd7444c5e4f238c8212d4610006bd.bio: 0.000 A\n",
      "Branch b.xn81de14cbc168441189503e1aae3ca762.bvo: 0.000 A\n",
      "Branch v.xn81de14cbc168441189503e1aae3ca762.v1: -8.000 A\n",
      "Branch b.xn81de14cbc168441189503e1aae3ca762.bio: 0.000 A\n",
      "Branch b.xn81de14cbc168441189503e1aae3ca762.bvi: 0.000 A\n",
      "Branch v.xn81de14cbc168441189503e1aae3ca762.v_b1: -8.000 A\n",
      "Branch b.xn81de14cbc168441189503e1aae3ca762.bii: 0.000 A\n",
      "Branch b.xn81de14cbc168441189503e1aae3ca762.bef: 0.000 A\n",
      "Branch b.xna80f1ab2041340868ffa9b47e93c307a.bvo: 0.000 A\n",
      "Branch v.xna80f1ab2041340868ffa9b47e93c307a.v1: -2.000 A\n",
      "Branch b.xna80f1ab2041340868ffa9b47e93c307a.bio: 0.000 A\n",
      "Branch b.xna80f1ab2041340868ffa9b47e93c307a.bvi: 0.000 A\n",
      "Branch v.xna80f1ab2041340868ffa9b47e93c307a.v_b1: -2.000 A\n",
      "Branch b.xna80f1ab2041340868ffa9b47e93c307a.bii: 0.000 A\n",
      "Branch b.xna80f1ab2041340868ffa9b47e93c307a.bef: 0.000 A\n",
      "Branch b.xn44ba8c89de474b13a08427b9dccd8ba6.bvi: 0.000 A\n",
      "Branch v.xn44ba8c89de474b13a08427b9dccd8ba6.v_r1: 2.000 A\n",
      "Branch b.xn44ba8c89de474b13a08427b9dccd8ba6.bii: 0.000 A\n",
      "Branch b.xn68b947253e624c2e910774aaf3ab5cad.bvi: 0.000 A\n",
      "Branch v.xn68b947253e624c2e910774aaf3ab5cad.v_r1: 2.000 A\n",
      "Branch b.xn68b947253e624c2e910774aaf3ab5cad.bii: 0.000 A\n",
      "Branch b.xnaa84aeb9387a41808607d41ab3ab0726.bvi: 0.000 A\n",
      "Branch v.xnaa84aeb9387a41808607d41ab3ab0726.v_r1: 4.000 A\n",
      "Branch b.xnaa84aeb9387a41808607d41ab3ab0726.bii: 0.000 A\n"
     ]
    }
   ],
   "source": [
    "for node in output.branches.values():\n",
    "    print('Branch {}: {:5.3f} A'.format(str(node), float(node)))"
   ]
  },
  {
   "cell_type": "code",
   "execution_count": 126,
   "metadata": {},
   "outputs": [
    {
     "name": "stdout",
     "output_type": "stream",
     "text": [
      "Node ii-naa84aeb9387a41808607d41ab3ab0726: 4.000 V\n",
      "Node vi-naa84aeb9387a41808607d41ab3ab0726: 1.000 V\n",
      "Node xnaa84aeb9387a41808607d41ab3ab0726.n1_vmeas_4: 1.000 V\n",
      "Node ii-n68b947253e624c2e910774aaf3ab5cad: 2.000 V\n",
      "Node vi-n68b947253e624c2e910774aaf3ab5cad: 1.000 V\n",
      "Node xn68b947253e624c2e910774aaf3ab5cad.n1_vmeas_3: 1.000 V\n",
      "Node ii-n44ba8c89de474b13a08427b9dccd8ba6: 2.000 V\n",
      "Node vi-n44ba8c89de474b13a08427b9dccd8ba6: 0.500 V\n",
      "Node xn44ba8c89de474b13a08427b9dccd8ba6.n1_vmeas_2: 0.500 V\n",
      "Node ee-na80f1ab2041340868ffa9b47e93c307a: 0.500 V\n",
      "Node ii-na80f1ab2041340868ffa9b47e93c307a: -2.000 V\n",
      "Node vi-na80f1ab2041340868ffa9b47e93c307a: 1.000 V\n",
      "Node io-na80f1ab2041340868ffa9b47e93c307a: -2.000 V\n",
      "Node vo-na80f1ab2041340868ffa9b47e93c307a: 0.500 V\n",
      "Node na80f1ab2041340868ffa9b47e93c307a: 0.500 V\n",
      "Node xna80f1ab2041340868ffa9b47e93c307a.0_vmeas_1: 0.000 V\n",
      "Node ee-n81de14cbc168441189503e1aae3ca762: 0.100 V\n",
      "Node ii-n81de14cbc168441189503e1aae3ca762: -8.000 V\n",
      "Node vi-n81de14cbc168441189503e1aae3ca762: 10.000 V\n",
      "Node io-n81de14cbc168441189503e1aae3ca762: -8.000 V\n",
      "Node vo-n81de14cbc168441189503e1aae3ca762: 1.000 V\n",
      "Node n81de14cbc168441189503e1aae3ca762: 1.000 V\n",
      "Node xn81de14cbc168441189503e1aae3ca762.0_vmeas_0: 0.000 V\n",
      "Node io-n113fd7444c5e4f238c8212d4610006bd: -8.000 V\n",
      "Node vo-n113fd7444c5e4f238c8212d4610006bd: 10.000 V\n",
      "Node n113fd7444c5e4f238c8212d4610006bd: 10.000 V\n"
     ]
    }
   ],
   "source": [
    "for node in output.nodes.values():\n",
    "    print('Node {}: {:5.3f} V'.format(str(node), float(node)))"
   ]
  },
  {
   "cell_type": "code",
   "execution_count": 130,
   "metadata": {},
   "outputs": [
    {
     "name": "stdout",
     "output_type": "stream",
     "text": [
      "Hello   10.0 -8.0\n",
      "└── n1   1.0 -8.0\n",
      "    ├── n5   0.5 -2.0\n",
      "    │   └── n6   0.5 2.0\n",
      "    ├── n3   1.0 2.0\n",
      "    └── n4   1.0 4.0\n"
     ]
    }
   ],
   "source": [
    "for pre, fill, node in RenderTree(top):\n",
    "    try:\n",
    "        cur = float(output[\"io-\" + node.id]) \n",
    "    except Exception as e:\n",
    "        cur = 0.0\n",
    "    try:\n",
    "        vol = float(output[\"vo-\" +node.id]) \n",
    "    except Exception as e:\n",
    "        vol = 0.0\n",
    "    try:\n",
    "        if(node.subcircuit.type == \"SINK\"):\n",
    "            vol = float(output[\"vi-\" + node.id]) \n",
    "            cur = float(output[\"ii-\" + node.id]) \n",
    "            # print(\"Found a sink\")\n",
    "    except:\n",
    "        pass\n",
    "    try:\n",
    "        if(node.subcircuit.type == \"INPUT\"):\n",
    "            vol = float(output[\"vo-\" + node.id]) \n",
    "            cur = float(output[\"io-\" + node.id]) \n",
    "            # print(\"Found a sink\")\n",
    "    except:\n",
    "        pass    \n",
    "    print(\"%s%s   \" % (pre, node.name) + str(vol) + \" \" + str(cur))\n",
    "\n"
   ]
  },
  {
   "cell_type": "code",
   "execution_count": 116,
   "metadata": {},
   "outputs": [
    {
     "ename": "IndexError",
     "evalue": "vo-n230f7b6fafc4426c96d409e5a12632ad",
     "output_type": "error",
     "traceback": [
      "\u001b[0;31m---------------------------------------------------------------------------\u001b[0m",
      "\u001b[0;31mIndexError\u001b[0m                                Traceback (most recent call last)",
      "File \u001b[0;32m~/git/spycey/python/venv/lib/python3.8/site-packages/PySpice/Probe/WaveForm.py:301\u001b[0m, in \u001b[0;36mAnalysis.__getitem__\u001b[0;34m(self, name)\u001b[0m\n\u001b[1;32m    300\u001b[0m \u001b[39mtry\u001b[39;00m:\n\u001b[0;32m--> 301\u001b[0m     \u001b[39mreturn\u001b[39;00m \u001b[39mself\u001b[39;49m\u001b[39m.\u001b[39;49m_get_item(name)\n\u001b[1;32m    302\u001b[0m \u001b[39mexcept\u001b[39;00m \u001b[39mIndexError\u001b[39;00m:\n",
      "File \u001b[0;32m~/git/spycey/python/venv/lib/python3.8/site-packages/PySpice/Probe/WaveForm.py:295\u001b[0m, in \u001b[0;36mAnalysis._get_item\u001b[0;34m(self, name)\u001b[0m\n\u001b[1;32m    294\u001b[0m \u001b[39melse\u001b[39;00m:\n\u001b[0;32m--> 295\u001b[0m     \u001b[39mraise\u001b[39;00m \u001b[39mIndexError\u001b[39;00m(name)\n",
      "\u001b[0;31mIndexError\u001b[0m: vo-n230f7b6fafc4426c96d409e5a12632ad",
      "\nDuring handling of the above exception, another exception occurred:\n",
      "\u001b[0;31mIndexError\u001b[0m                                Traceback (most recent call last)",
      "Cell \u001b[0;32mIn[116], line 1\u001b[0m\n\u001b[0;32m----> 1\u001b[0m output[\u001b[39m\"\u001b[39;49m\u001b[39mvo-n230f7b6fafc4426c96d409e5a12632ad\u001b[39;49m\u001b[39m\"\u001b[39;49m]\n",
      "File \u001b[0;32m~/git/spycey/python/venv/lib/python3.8/site-packages/PySpice/Probe/WaveForm.py:303\u001b[0m, in \u001b[0;36mAnalysis.__getitem__\u001b[0;34m(self, name)\u001b[0m\n\u001b[1;32m    301\u001b[0m     \u001b[39mreturn\u001b[39;00m \u001b[39mself\u001b[39m\u001b[39m.\u001b[39m_get_item(name)\n\u001b[1;32m    302\u001b[0m \u001b[39mexcept\u001b[39;00m \u001b[39mIndexError\u001b[39;00m:\n\u001b[0;32m--> 303\u001b[0m     \u001b[39mreturn\u001b[39;00m \u001b[39mself\u001b[39;49m\u001b[39m.\u001b[39;49m_get_item(name\u001b[39m.\u001b[39;49mlower())\n",
      "File \u001b[0;32m~/git/spycey/python/venv/lib/python3.8/site-packages/PySpice/Probe/WaveForm.py:295\u001b[0m, in \u001b[0;36mAnalysis._get_item\u001b[0;34m(self, name)\u001b[0m\n\u001b[1;32m    293\u001b[0m     \u001b[39mreturn\u001b[39;00m \u001b[39mself\u001b[39m\u001b[39m.\u001b[39m_internal_parameters[name]\n\u001b[1;32m    294\u001b[0m \u001b[39melse\u001b[39;00m:\n\u001b[0;32m--> 295\u001b[0m     \u001b[39mraise\u001b[39;00m \u001b[39mIndexError\u001b[39;00m(name)\n",
      "\u001b[0;31mIndexError\u001b[0m: vo-n230f7b6fafc4426c96d409e5a12632ad"
     ]
    }
   ],
   "source": [
    "output[\"vo-n230f7b6fafc4426c96d409e5a12632ad\"]\n"
   ]
  },
  {
   "cell_type": "code",
   "execution_count": 117,
   "metadata": {},
   "outputs": [
    {
     "name": "stdout",
     "output_type": "stream",
     "text": [
      ".title Test\n",
      ".subckt Nee5e31cf207d40439b9ba89777053f6c n1 n2 n3 n4 n5 n6 n7\n",
      "B1 0 n1 i=I(V1)\n",
      "V1 n2 0 1\n",
      "BVO n3 0 v=V(n2)\n",
      "BIO n4 0 v=I(V1)\n",
      "BVI n5 0 v=V(n1)\n",
      "BII n6 0 v=I(B1)\n",
      "BEF n7 0 v=V(n2)/V(n1)\n",
      ".ends Nee5e31cf207d40439b9ba89777053f6c\n",
      "V1 n1 0 10\n",
      "R1 n2 0 1\n",
      "X1 n1 n2 n3 n4 n5 n6 n77Nee5e31cf207d40439b9ba89777053f6c Nee5e31cf207d40439b9ba89777053f6c\n",
      "\n"
     ]
    }
   ],
   "source": [
    "from PySpice.Doc.ExampleTools import find_libraries\n",
    "from PySpice.Probe.Plot import plot\n",
    "from PySpice.Spice.Library import SpiceLibrary\n",
    "from PySpice.Spice.Netlist import Circuit , SubCircuit, SubCircuitFactory\n",
    "from PySpice.Unit import *\n",
    "\n",
    "from spycey.spycey import *\n",
    "\n",
    "circuit = Circuit('Test')\n",
    "circuit.V(\"1\", \"n1\", 0, 10)\n",
    "circuit.R(\"1\", \"n2\", 0, 1)\n",
    "subC = LDO2(1)\n",
    "circuit.subcircuit(subC)\n",
    "circuit.X('1', subC.name, \"n1\", \"n2\", \"n3\", \"n4\", \"n5\", \"n6\", \"n77\" + subC.name)\n",
    "print(circuit)"
   ]
  },
  {
   "cell_type": "code",
   "execution_count": 118,
   "metadata": {},
   "outputs": [
    {
     "name": "stdout",
     "output_type": "stream",
     "text": [
      "{'n77nee5e31cf207d40439b9ba89777053f6c': WaveForm n77nee5e31cf207d40439b9ba89777053f6c [0.1]@V, 'n6': WaveForm n6 [-1.]@V, 'n5': WaveForm n5 [10.]@V, 'n4': WaveForm n4 [-1.]@V, 'n3': WaveForm n3 [1.]@V, 'x1.0_vmeas_0': WaveForm x1.0_vmeas_0 [0.]@V, 'n2': WaveForm n2 [1.]@V, 'n1': WaveForm n1 [10.]@V}\n"
     ]
    }
   ],
   "source": [
    "simulator = circuit.simulator()\n",
    "output = simulator.operating_point()\n",
    "\n",
    "print(output.nodes)"
   ]
  },
  {
   "cell_type": "code",
   "execution_count": 119,
   "metadata": {},
   "outputs": [
    {
     "name": "stdout",
     "output_type": "stream",
     "text": [
      "Node n77nee5e31cf207d40439b9ba89777053f6c: 0.100 V\n",
      "Node n6: -1.000 V\n",
      "Node n5: 10.000 V\n",
      "Node n4: -1.000 V\n",
      "Node n3: 1.000 V\n",
      "Node x1.0_vmeas_0: 0.000 V\n",
      "Node n2: 1.000 V\n",
      "Node n1: 10.000 V\n"
     ]
    }
   ],
   "source": [
    "for node in output.nodes.values():\n",
    "    print('Node {}: {:5.3f} V'.format(str(node), float(node)))"
   ]
  },
  {
   "cell_type": "code",
   "execution_count": 120,
   "metadata": {},
   "outputs": [
    {
     "name": "stdout",
     "output_type": "stream",
     "text": [
      "branch v1: -1.000 A\n",
      "branch b.x1.bvo: 0.000 A\n",
      "branch v.x1.v1: -1.000 A\n",
      "branch b.x1.bio: 0.000 A\n",
      "branch b.x1.bvi: 0.000 A\n",
      "branch v.x1.v_b1: -1.000 A\n",
      "branch b.x1.bii: 0.000 A\n",
      "branch b.x1.bef: 0.000 A\n"
     ]
    }
   ],
   "source": [
    "for branch in output.branches.values():\n",
    "    print('branch {}: {:5.3f} A'.format(str(branch), float(branch)))"
   ]
  },
  {
   "cell_type": "code",
   "execution_count": 121,
   "metadata": {},
   "outputs": [
    {
     "data": {
      "text/plain": [
       "WaveForm b.x1.bef [0.]@A"
      ]
     },
     "execution_count": 121,
     "metadata": {},
     "output_type": "execute_result"
    }
   ],
   "source": [
    "output[\"b.x1.bef\"]"
   ]
  },
  {
   "cell_type": "code",
   "execution_count": 36,
   "metadata": {},
   "outputs": [
    {
     "data": {
      "text/plain": [
       "WaveForm n6 [-1.]@V"
      ]
     },
     "execution_count": 36,
     "metadata": {},
     "output_type": "execute_result"
    }
   ],
   "source": [
    "output[\"n6\"]"
   ]
  },
  {
   "cell_type": "code",
   "execution_count": null,
   "metadata": {},
   "outputs": [],
   "source": []
  }
 ],
 "metadata": {
  "kernelspec": {
   "display_name": "venv",
   "language": "python",
   "name": "python3"
  },
  "language_info": {
   "codemirror_mode": {
    "name": "ipython",
    "version": 3
   },
   "file_extension": ".py",
   "mimetype": "text/x-python",
   "name": "python",
   "nbconvert_exporter": "python",
   "pygments_lexer": "ipython3",
   "version": "3.8.10"
  },
  "orig_nbformat": 4,
  "vscode": {
   "interpreter": {
    "hash": "b9e0ea871a737782f9e19725d8a7d6eb0864730250975268501d3bdb8f18e70f"
   }
  }
 },
 "nbformat": 4,
 "nbformat_minor": 2
}
